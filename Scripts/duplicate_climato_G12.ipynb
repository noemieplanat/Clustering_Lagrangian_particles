{
 "cells": [
  {
   "cell_type": "code",
   "execution_count": 1,
   "id": "b274836d",
   "metadata": {
    "ExecuteTime": {
     "end_time": "2023-01-11T08:10:39.720264Z",
     "start_time": "2023-01-11T08:10:38.316912Z"
    }
   },
   "outputs": [],
   "source": [
    "import xarray as xr\n",
    "from datetime import datetime\n",
    "import glob"
   ]
  },
  {
   "cell_type": "code",
   "execution_count": 2,
   "id": "66cf522f",
   "metadata": {
    "ExecuteTime": {
     "end_time": "2023-01-11T08:10:39.724627Z",
     "start_time": "2023-01-11T08:10:39.721711Z"
    }
   },
   "outputs": [],
   "source": [
    "ListeT = glob.glob('/storage/nplanat/Glorys12_ORCA_climato/G12_gridT*')\n",
    "ListeS = glob.glob('/storage/nplanat/Glorys12_ORCA_climato/G12_gridS*')\n",
    "ListeU = glob.glob('/storage/nplanat/Glorys12_ORCA_climato/G12_gridU*')\n",
    "ListeW = glob.glob('/storage/nplanat/Glorys12_ORCA_climato/G12_gridW*')\n",
    "ListeV = glob.glob('/storage/nplanat/Glorys12_ORCA_climato/G12_gridV*')"
   ]
  },
  {
   "cell_type": "code",
   "execution_count": 3,
   "id": "0a8f9b2d",
   "metadata": {
    "ExecuteTime": {
     "end_time": "2023-01-11T08:19:17.873591Z",
     "start_time": "2023-01-11T08:10:39.725621Z"
    }
   },
   "outputs": [
    {
     "name": "stdout",
     "output_type": "stream",
     "text": [
      "month:  0\n",
      "month:  1\n",
      "month:  2\n",
      "month:  3\n",
      "month:  4\n",
      "month:  5\n",
      "month:  6\n",
      "month:  7\n",
      "month:  8\n",
      "month:  9\n",
      "month:  10\n",
      "month:  11\n"
     ]
    }
   ],
   "source": [
    "for i in range(0, 12):\n",
    "    print('month: ', i)\n",
    "    for dy in range(0,4):\n",
    "        dsT = xr.open_dataset(ListeT[i])\n",
    "        dsT['time'] = (('time_counter', ), [datetime(2006+dy, i+1, 15)])\n",
    "        dsT = dsT.drop('time_counter').set_coords({'time'}).rename({'time':'time_counter'})\n",
    "        dsT.to_netcdf('/storage/nplanat/Glorys12_ORCA_climato/LT_gridT_'+str(dsT.time_counter.dt.month.values[0])+'_'+str(dsT.time_counter.dt.year.values[0])+'.nc')\n",
    "\n",
    "        dsT = xr.open_dataset(ListeS[i])\n",
    "        dsT['time'] = (('time_counter', ), [datetime(2006+dy, i+1, 15)])\n",
    "        dsT = dsT.drop('time_counter').set_coords({'time'}).rename({'time':'time_counter'})\n",
    "        dsT.to_netcdf('/storage/nplanat/Glorys12_ORCA_climato/LT_gridS_'+str(dsT.time_counter.dt.month.values[0])+'_'+str(dsT.time_counter.dt.year.values[0])+'.nc')\n",
    "        \n",
    "        dsT = xr.open_dataset(ListeU[i])\n",
    "        dsT['time'] = (('time_counter', ), [datetime(2006+dy, i+1, 15)])\n",
    "        dsT = dsT.drop('time_counter').set_coords({'time'}).rename({'time':'time_counter'})\n",
    "        dsT.to_netcdf('/storage/nplanat/Glorys12_ORCA_climato/LT_gridU_'+str(dsT.time_counter.dt.month.values[0])+'_'+str(dsT.time_counter.dt.year.values[0])+'.nc')\n",
    "\n",
    "        dsT = xr.open_dataset(ListeW[i])\n",
    "        dsT['time'] = (('time_counter', ), [datetime(2006+dy, i+1, 15)])\n",
    "        dsT = dsT.drop('time_counter').set_coords({'time'}).rename({'time':'time_counter'})\n",
    "        dsT.to_netcdf('/storage/nplanat/Glorys12_ORCA_climato/LT_gridW_'+str(dsT.time_counter.dt.month.values[0])+'_'+str(dsT.time_counter.dt.year.values[0])+'.nc')\n",
    "        \n",
    "        dsT = xr.open_dataset(ListeV[i])\n",
    "        dsT['time'] = (('time_counter', ), [datetime(2006+dy, i+1, 15)])\n",
    "        dsT = dsT.drop('time_counter').set_coords({'time'}).rename({'time':'time_counter'})\n",
    "        dsT.to_netcdf('/storage/nplanat/Glorys12_ORCA_climato/LT_gridV_'+str(dsT.time_counter.dt.month.values[0])+'_'+str(dsT.time_counter.dt.year.values[0])+'.nc')\n"
   ]
  },
  {
   "cell_type": "code",
   "execution_count": 18,
   "id": "09cce33b",
   "metadata": {
    "ExecuteTime": {
     "end_time": "2023-01-11T08:39:58.277156Z",
     "start_time": "2023-01-11T08:39:58.273388Z"
    }
   },
   "outputs": [],
   "source": [
    "def sort_file_liste(files):\n",
    "    dtype = [('file', 'S100'), ('date', 'datetime64[ns]')]\n",
    "    values = [(file, xr.open_dataset(file, ).time_counter.values[0]) for file in files]\n",
    "    Correct_indices = np.where([type(values[i][1])==np.datetime64 for i in range(len(values))])[0].astype(int)\n",
    "    Incorrect_indices = np.where([type(values[i][1])!=np.datetime64 for i in range(len(values))])[0].astype(int)\n",
    "    Val_sel = [values[x] for x in Correct_indices]\n",
    "    Array = np.array(Val_sel, dtype=dtype)\n",
    "    np.sort(Array, order='date')\n",
    "    Times = [x[1] for x in Array]\n",
    "    unique_elements, indices = np.unique(Times, return_index = True)\n",
    "    return [x[0].decode() for x in Array[indices]]"
   ]
  },
  {
   "cell_type": "code",
   "execution_count": 19,
   "id": "a31253d7",
   "metadata": {
    "ExecuteTime": {
     "end_time": "2023-01-11T08:40:01.192941Z",
     "start_time": "2023-01-11T08:40:01.158575Z"
    }
   },
   "outputs": [
    {
     "data": {
      "text/plain": [
       "['/storage/nplanat/Glorys12_ORCA_climato/G12_gridT_01.nc',\n",
       " '/storage/nplanat/Glorys12_ORCA_climato/G12_gridT_02.nc',\n",
       " '/storage/nplanat/Glorys12_ORCA_climato/G12_gridT_03.nc',\n",
       " '/storage/nplanat/Glorys12_ORCA_climato/G12_gridT_04.nc',\n",
       " '/storage/nplanat/Glorys12_ORCA_climato/G12_gridT_05.nc',\n",
       " '/storage/nplanat/Glorys12_ORCA_climato/G12_gridT_06.nc',\n",
       " '/storage/nplanat/Glorys12_ORCA_climato/G12_gridT_07.nc',\n",
       " '/storage/nplanat/Glorys12_ORCA_climato/G12_gridT_08.nc',\n",
       " '/storage/nplanat/Glorys12_ORCA_climato/G12_gridT_09.nc',\n",
       " '/storage/nplanat/Glorys12_ORCA_climato/G12_gridT_10.nc',\n",
       " '/storage/nplanat/Glorys12_ORCA_climato/G12_gridT_11.nc',\n",
       " '/storage/nplanat/Glorys12_ORCA_climato/G12_gridT_12.nc']"
      ]
     },
     "execution_count": 19,
     "metadata": {},
     "output_type": "execute_result"
    }
   ],
   "source": [
    "sort_file_liste(glob.glob('/storage/nplanat/Glorys12_ORCA_climato/G12_gridT*'))"
   ]
  }
 ],
 "metadata": {
  "hide_input": true,
  "kernelspec": {
   "display_name": "Python(analysis)",
   "language": "python",
   "name": "analysis"
  },
  "language_info": {
   "codemirror_mode": {
    "name": "ipython",
    "version": 3
   },
   "file_extension": ".py",
   "mimetype": "text/x-python",
   "name": "python",
   "nbconvert_exporter": "python",
   "pygments_lexer": "ipython3",
   "version": "3.9.13"
  },
  "latex_envs": {
   "LaTeX_envs_menu_present": true,
   "autoclose": false,
   "autocomplete": true,
   "bibliofile": "biblio.bib",
   "cite_by": "apalike",
   "current_citInitial": 1,
   "eqLabelWithNumbers": true,
   "eqNumInitial": 1,
   "hotkeys": {
    "equation": "Ctrl-E",
    "itemize": "Ctrl-I"
   },
   "labels_anchors": false,
   "latex_user_defs": false,
   "report_style_numbering": false,
   "user_envs_cfg": false
  },
  "toc": {
   "base_numbering": 1,
   "nav_menu": {},
   "number_sections": true,
   "sideBar": true,
   "skip_h1_title": false,
   "title_cell": "Table of Contents",
   "title_sidebar": "Contents",
   "toc_cell": false,
   "toc_position": {},
   "toc_section_display": true,
   "toc_window_display": false
  },
  "varInspector": {
   "cols": {
    "lenName": 16,
    "lenType": 16,
    "lenVar": 40
   },
   "kernels_config": {
    "python": {
     "delete_cmd_postfix": "",
     "delete_cmd_prefix": "del ",
     "library": "var_list.py",
     "varRefreshCmd": "print(var_dic_list())"
    },
    "r": {
     "delete_cmd_postfix": ") ",
     "delete_cmd_prefix": "rm(",
     "library": "var_list.r",
     "varRefreshCmd": "cat(var_dic_list()) "
    }
   },
   "types_to_exclude": [
    "module",
    "function",
    "builtin_function_or_method",
    "instance",
    "_Feature"
   ],
   "window_display": false
  }
 },
 "nbformat": 4,
 "nbformat_minor": 5
}
